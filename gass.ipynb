{
 "cells": [
  {
   "cell_type": "code",
   "execution_count": 1,
   "metadata": {},
   "outputs": [],
   "source": [
    "import keras"
   ]
  },
  {
   "cell_type": "code",
   "execution_count": 2,
   "metadata": {},
   "outputs": [],
   "source": [
    "\n",
    "import tensorflow as tf\n",
    "from keras.preprocessing.image import ImageDataGenerator\n",
    "from keras.optimizers import Adam"
   ]
  },
  {
   "cell_type": "code",
   "execution_count": 3,
   "metadata": {},
   "outputs": [],
   "source": [
    "from keras.callbacks import ModelCheckpoint"
   ]
  },
  {
   "cell_type": "code",
   "execution_count": 26,
   "metadata": {},
   "outputs": [],
   "source": [
    "train_path = \"C:/Users/sande/gass\"\n",
    "valid_path = \"C:/Users/sande/valid\""
   ]
  },
  {
   "cell_type": "code",
   "execution_count": 27,
   "metadata": {},
   "outputs": [],
   "source": [
    "traning_datagen = ImageDataGenerator(rescale=1./255,\n",
    "                                      rotation_range=40,\n",
    "                                      width_shift_range=0.2,\n",
    "                                      height_shift_range=0.2,\n",
    "                                      shear_range=0.2,\n",
    "                                      zoom_range=0.2,\n",
    "                                      horizontal_flip=True,\n",
    "                                      fill_mode='nearest')"
   ]
  },
  {
   "cell_type": "code",
   "execution_count": 28,
   "metadata": {},
   "outputs": [
    {
     "name": "stdout",
     "output_type": "stream",
     "text": [
      "Found 7 images belonging to 2 classes.\n"
     ]
    }
   ],
   "source": [
    "traning_data = traning_datagen.flow_from_directory(train_path,target_size=(200,200),batch_size=3,class_mode=\"binary\")"
   ]
  },
  {
   "cell_type": "code",
   "execution_count": 29,
   "metadata": {},
   "outputs": [
    {
     "data": {
      "text/plain": [
       "{'cross': 0, 'straight': 1}"
      ]
     },
     "execution_count": 29,
     "metadata": {},
     "output_type": "execute_result"
    }
   ],
   "source": [
    "traning_data.class_indices"
   ]
  },
  {
   "cell_type": "code",
   "execution_count": 30,
   "metadata": {},
   "outputs": [],
   "source": [
    "valid_datagen = ImageDataGenerator(rescale=1./255)"
   ]
  },
  {
   "cell_type": "code",
   "execution_count": 31,
   "metadata": {},
   "outputs": [],
   "source": [
    "cnn_model = keras.models.Sequential([\n",
    "                                     keras.layers.Conv2D(filters=32,kernel_size=5,input_shape = [200,200,3]),\n",
    "                                     keras.layers.MaxPool2D(pool_size = (4,4)),\n",
    "                                     keras.layers.Conv2D(filters=64,kernel_size=4),\n",
    "                                     keras.layers.MaxPool2D(pool_size = (3,3)),\n",
    "                                     keras.layers.Conv2D(filters=128,kernel_size=3),\n",
    "                                     keras.layers.MaxPool2D(pool_size = (2,2)),\n",
    "                                     keras.layers.Conv2D(filters=256,kernel_size=2),\n",
    "                                     keras.layers.MaxPool2D(pool_size = (2,2)),\n",
    "\n",
    "                                     keras.layers.Dropout(0.5),\n",
    "                                     keras.layers.Flatten(),\n",
    "                                     keras.layers.Dense(units = 128,activation=\"relu\"),\n",
    "                                     keras.layers.Dropout(0.1),\n",
    "                                     keras.layers.Dense(units = 256,activation=\"relu\"),\n",
    "                                     keras.layers.Dropout(0.25),\n",
    "                                     keras.layers.Dense(units=2,activation=\"softmax\")])"
   ]
  },
  {
   "cell_type": "code",
   "execution_count": 32,
   "metadata": {},
   "outputs": [],
   "source": [
    "cnn_model.compile(optimizer=Adam(learning_rate=0.001),loss = \"sparse_categorical_crossentropy\",metrics = [\"accuracy\"])"
   ]
  },
  {
   "cell_type": "code",
   "execution_count": 33,
   "metadata": {},
   "outputs": [
    {
     "name": "stdout",
     "output_type": "stream",
     "text": [
      "Found 7 images belonging to 2 classes.\n"
     ]
    }
   ],
   "source": [
    "valid_datagen = ImageDataGenerator(rescale=1./255)\n",
    "valid_data = valid_datagen.flow_from_directory(valid_path,target_size=(200,200),batch_size=15,class_mode=\"binary\")"
   ]
  },
  {
   "cell_type": "code",
   "execution_count": 34,
   "metadata": {},
   "outputs": [],
   "source": [
    "# from keras.callbacks import ModelCheckpoint\n",
    "# checkpoint = ModelCheckpoint(model_path,monitor=\"val_loss\",verbose = 1,save_best_only=True,mode=\"max\")"
   ]
  },
  {
   "cell_type": "code",
   "execution_count": 35,
   "metadata": {},
   "outputs": [
    {
     "name": "stdout",
     "output_type": "stream",
     "text": [
      "Epoch 1/10\n",
      "3/3 [==============================] - 3s 501ms/step - loss: 0.5817 - accuracy: 0.7827 - val_loss: 1.1925 - val_accuracy: 0.7143\n",
      "Epoch 2/10\n",
      "3/3 [==============================] - 1s 232ms/step - loss: 1.4289 - accuracy: 0.7946 - val_loss: 1.0450 - val_accuracy: 0.7143\n",
      "Epoch 3/10\n",
      "3/3 [==============================] - 1s 223ms/step - loss: 0.5151 - accuracy: 0.7946 - val_loss: 0.6428 - val_accuracy: 0.7143\n",
      "Epoch 4/10\n",
      "3/3 [==============================] - 1s 254ms/step - loss: 0.7351 - accuracy: 0.6190 - val_loss: 0.6586 - val_accuracy: 1.0000\n",
      "Epoch 5/10\n",
      "3/3 [==============================] - 1s 256ms/step - loss: 0.6631 - accuracy: 0.4107 - val_loss: 0.5948 - val_accuracy: 0.7143\n",
      "Epoch 6/10\n",
      "3/3 [==============================] - 1s 250ms/step - loss: 0.5598 - accuracy: 0.8661 - val_loss: 0.5893 - val_accuracy: 0.7143\n",
      "Epoch 7/10\n",
      "3/3 [==============================] - 1s 223ms/step - loss: 0.5990 - accuracy: 0.6905 - val_loss: 0.5601 - val_accuracy: 0.7143\n",
      "Epoch 8/10\n",
      "3/3 [==============================] - 1s 262ms/step - loss: 0.7261 - accuracy: 0.7113 - val_loss: 0.6740 - val_accuracy: 0.7143\n",
      "Epoch 9/10\n",
      "3/3 [==============================] - 1s 231ms/step - loss: 1.5096 - accuracy: 0.4940 - val_loss: 0.4067 - val_accuracy: 0.8571\n",
      "Epoch 10/10\n",
      "3/3 [==============================] - 1s 193ms/step - loss: 0.6641 - accuracy: 0.6190 - val_loss: 0.3894 - val_accuracy: 0.7143\n"
     ]
    }
   ],
   "source": [
    "history = cnn_model.fit(traning_data,epochs = 10,verbose = 1,validation_data=valid_data)"
   ]
  },
  {
   "cell_type": "code",
   "execution_count": 96,
   "metadata": {},
   "outputs": [],
   "source": [
    "cnn_model.save(\"C:/Users/sande/valid/gassmodel.h5\")"
   ]
  },
  {
   "cell_type": "code",
   "execution_count": 97,
   "metadata": {},
   "outputs": [],
   "source": [
    "from tensorflow.keras.models import load_model"
   ]
  },
  {
   "cell_type": "code",
   "execution_count": 98,
   "metadata": {},
   "outputs": [],
   "source": [
    "model = load_model(\"valid\\gassmodel.h5\")\n",
    "test_input = 'C:/Users/sande/gass/cross/download.jpg'"
   ]
  },
  {
   "cell_type": "code",
   "execution_count": 119,
   "metadata": {},
   "outputs": [],
   "source": [
    "img_width = 200\n",
    "img_hight = 200\n",
    "imggg = cv2.imread('C:/Users/sande/gass/cross/hh.jpeg')\n",
    "testing = cv2.imread('C:/Users/sande/gass/straight/download.jpg')\n"
   ]
  },
  {
   "cell_type": "code",
   "execution_count": 120,
   "metadata": {},
   "outputs": [
    {
     "data": {
      "text/plain": [
       "((960, 1280, 3), (300, 168, 3))"
      ]
     },
     "execution_count": 120,
     "metadata": {},
     "output_type": "execute_result"
    }
   ],
   "source": [
    "imggg.shape,testing.shape"
   ]
  },
  {
   "cell_type": "code",
   "execution_count": 121,
   "metadata": {},
   "outputs": [],
   "source": [
    "stretch_near = cv2.resize(imggg, (200, 200))\n",
    "testing = cv2.resize(testing, (200, 200))"
   ]
  },
  {
   "cell_type": "code",
   "execution_count": 122,
   "metadata": {},
   "outputs": [
    {
     "data": {
      "text/plain": [
       "((200, 200, 3), (200, 200, 3))"
      ]
     },
     "execution_count": 122,
     "metadata": {},
     "output_type": "execute_result"
    }
   ],
   "source": [
    "stretch_near.shape,testing.shape"
   ]
  },
  {
   "cell_type": "code",
   "execution_count": null,
   "metadata": {},
   "outputs": [],
   "source": [
    "model."
   ]
  },
  {
   "cell_type": "code",
   "execution_count": 107,
   "metadata": {},
   "outputs": [
    {
     "data": {
      "text/plain": [
       "(960, 1280, 3)"
      ]
     },
     "execution_count": 107,
     "metadata": {},
     "output_type": "execute_result"
    }
   ],
   "source": [
    "imggg.shape"
   ]
  },
  {
   "cell_type": "code",
   "execution_count": 124,
   "metadata": {},
   "outputs": [
    {
     "ename": "error",
     "evalue": "OpenCV(4.0.1) C:\\ci\\opencv-suite_1573470242804\\work\\modules\\imgproc\\src\\resize.cpp:3784: error: (-215:Assertion failed) !ssize.empty() in function 'cv::resize'\n",
     "output_type": "error",
     "traceback": [
      "\u001b[1;31m---------------------------------------------------------------------------\u001b[0m",
      "\u001b[1;31merror\u001b[0m                                     Traceback (most recent call last)",
      "\u001b[1;32m<ipython-input-124-cad1e53336f6>\u001b[0m in \u001b[0;36m<module>\u001b[1;34m\u001b[0m\n\u001b[1;32m----> 1\u001b[1;33m stretch_near = cv2.resize(img, (200, 200),\n\u001b[0m\u001b[0;32m      2\u001b[0m               )\n",
      "\u001b[1;31merror\u001b[0m: OpenCV(4.0.1) C:\\ci\\opencv-suite_1573470242804\\work\\modules\\imgproc\\src\\resize.cpp:3784: error: (-215:Assertion failed) !ssize.empty() in function 'cv::resize'\n"
     ]
    }
   ],
   "source": [
    "stretch_near = cv2.resize(img, (200, 200),\n",
    "              )"
   ]
  },
  {
   "cell_type": "code",
   "execution_count": 125,
   "metadata": {},
   "outputs": [],
   "source": [
    "stretch_near = stretch_near.reshape(-1, 200, 200, 3)\n",
    "testing = stretch_near.reshape(-1, 200, 200, 3)"
   ]
  },
  {
   "cell_type": "code",
   "execution_count": 126,
   "metadata": {},
   "outputs": [],
   "source": [
    "classes = model.predict_classes(testing)"
   ]
  },
  {
   "cell_type": "code",
   "execution_count": 128,
   "metadata": {},
   "outputs": [
    {
     "data": {
      "text/plain": [
       "0"
      ]
     },
     "execution_count": 128,
     "metadata": {},
     "output_type": "execute_result"
    }
   ],
   "source": [
    "classes[0]"
   ]
  },
  {
   "cell_type": "code",
   "execution_count": null,
   "metadata": {},
   "outputs": [],
   "source": []
  }
 ],
 "metadata": {
  "kernelspec": {
   "display_name": "Python 3",
   "language": "python",
   "name": "python3"
  },
  "language_info": {
   "codemirror_mode": {
    "name": "ipython",
    "version": 3
   },
   "file_extension": ".py",
   "mimetype": "text/x-python",
   "name": "python",
   "nbconvert_exporter": "python",
   "pygments_lexer": "ipython3",
   "version": "3.8.3"
  }
 },
 "nbformat": 4,
 "nbformat_minor": 4
}
